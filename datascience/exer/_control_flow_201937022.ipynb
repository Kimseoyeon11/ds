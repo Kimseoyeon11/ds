{
 "cells": [
  {
   "cell_type": "code",
   "execution_count": 11,
   "id": "1d7c0fe6-b481-491e-9ab6-9850967f69b0",
   "metadata": {},
   "outputs": [
    {
     "name": "stdout",
     "output_type": "stream",
     "text": [
      "<class 'bool'>\n"
     ]
    },
    {
     "data": {
      "text/plain": [
       "False"
      ]
     },
     "execution_count": 11,
     "metadata": {},
     "output_type": "execute_result"
    }
   ],
   "source": [
    "is_tested = True \n",
    "\n",
    "print(type(is_tested))\n",
    "\n",
    "a = 2\n",
    "b = 3\n",
    "\n",
    "a==b"
   ]
  },
  {
   "cell_type": "code",
   "execution_count": 13,
   "id": "02ba5a3e-2a04-4fea-9e3f-7bdc11e5f301",
   "metadata": {},
   "outputs": [
    {
     "name": "stdout",
     "output_type": "stream",
     "text": [
      "True\n",
      "True\n"
     ]
    }
   ],
   "source": [
    "print(\"Yes\"!=\"No\")\n",
    "\n",
    "val1=10\n",
    "val2=20\n",
    "print(val1 !=val2)\n",
    "\n",
    "print"
   ]
  },
  {
   "cell_type": "code",
   "execution_count": 21,
   "id": "a706a7d3-7011-4bac-b0ec-53ffc60a90b2",
   "metadata": {},
   "outputs": [
    {
     "data": {
      "text/plain": [
       "False"
      ]
     },
     "execution_count": 21,
     "metadata": {},
     "output_type": "execute_result"
    }
   ],
   "source": [
    "True or True\n",
    "True or False \n",
    "\n",
    "False or False\n",
    "\n"
   ]
  },
  {
   "cell_type": "code",
   "execution_count": 15,
   "id": "49512948-bb10-416b-831c-ec289435a8c6",
   "metadata": {},
   "outputs": [
    {
     "data": {
      "text/plain": [
       "False"
      ]
     },
     "execution_count": 15,
     "metadata": {},
     "output_type": "execute_result"
    }
   ],
   "source": [
    "1>2 or 3<1"
   ]
  },
  {
   "cell_type": "code",
   "execution_count": 16,
   "id": "d2321da1-bfce-46d0-b54a-4c32f342488c",
   "metadata": {},
   "outputs": [
    {
     "data": {
      "text/plain": [
       "False"
      ]
     },
     "execution_count": 16,
     "metadata": {},
     "output_type": "execute_result"
    }
   ],
   "source": [
    "3<1 or 1>6"
   ]
  },
  {
   "cell_type": "code",
   "execution_count": 17,
   "id": "4d9c14f0-e66d-486d-ac63-3e102abc5d03",
   "metadata": {},
   "outputs": [
    {
     "data": {
      "text/plain": [
       "True"
      ]
     },
     "execution_count": 17,
     "metadata": {},
     "output_type": "execute_result"
    }
   ],
   "source": [
    "1==1 or 1<2"
   ]
  },
  {
   "cell_type": "code",
   "execution_count": 26,
   "id": "4803c092-2f67-4348-ab45-d53ac5c02a4b",
   "metadata": {},
   "outputs": [
    {
     "data": {
      "text/plain": [
       "False"
      ]
     },
     "execution_count": 26,
     "metadata": {},
     "output_type": "execute_result"
    }
   ],
   "source": [
    "not True"
   ]
  },
  {
   "cell_type": "code",
   "execution_count": 39,
   "id": "856a2a3b-d867-4657-890f-634e2a2726f9",
   "metadata": {},
   "outputs": [
    {
     "name": "stdout",
     "output_type": "stream",
     "text": [
      "말티푸\n",
      "True\n"
     ]
    }
   ],
   "source": [
    "puppy = 'maltepoo'\n",
    "\n",
    "is_yes = False\n",
    "\n",
    "if puppy == 'maltese':\n",
    "    print('말티즈 맞네')\n",
    "    is_yes = True\n",
    "    \n",
    "elif puppy == 'poodle':\n",
    "    print('응')\n",
    "    is_yes = True\n",
    "\n",
    "elif puppy == 'maltepoo':\n",
    "    print('말티푸')\n",
    "    is_yes = True\n",
    "\n",
    "elif puppy == 'shihtzu':\n",
    "    print('응')\n",
    "    is_yes = True\n",
    "\n",
    "else:\n",
    "    print('종료')\n",
    "\n",
    "\n",
    "print(is_yes)"
   ]
  },
  {
   "cell_type": "code",
   "execution_count": 34,
   "id": "32dbbfa6-6fbc-43ce-bc65-be5d383c1121",
   "metadata": {},
   "outputs": [
    {
     "name": "stdout",
     "output_type": "stream",
     "text": [
      "False\n"
     ]
    }
   ],
   "source": [
    "if puppy == 'maltese':\n",
    "    is_yes = True\n",
    "\n",
    "elif puppy == 'poodle':\n",
    "    is_yes = True\n",
    "\n",
    "elif puppy == 'shihtzu':\n",
    "    is_yes = True\n",
    "\n",
    "print(is_yes)"
   ]
  },
  {
   "cell_type": "code",
   "execution_count": 41,
   "id": "b4bf8cab-5146-45fb-837e-baa06be6d018",
   "metadata": {},
   "outputs": [
    {
     "name": "stdout",
     "output_type": "stream",
     "text": [
      "[ERROR]: y is not declared.\n",
      "continue...\n"
     ]
    }
   ],
   "source": [
    "x = 1\n",
    "\n",
    "try: \n",
    "    print(y)\n",
    "    print(x)\n",
    "except:\n",
    "    print(\"[ERROR]: y is not declared.\")\n",
    "    \n",
    "print(\"continue...\")"
   ]
  },
  {
   "cell_type": "code",
   "execution_count": null,
   "id": "1977d78b-23e1-48c3-902f-4ce9598db59e",
   "metadata": {},
   "outputs": [],
   "source": []
  }
 ],
 "metadata": {
  "kernelspec": {
   "display_name": "Python 3",
   "language": "python",
   "name": "python3"
  },
  "language_info": {
   "codemirror_mode": {
    "name": "ipython",
    "version": 3
   },
   "file_extension": ".py",
   "mimetype": "text/x-python",
   "name": "python",
   "nbconvert_exporter": "python",
   "pygments_lexer": "ipython3",
   "version": "3.8.8"
  }
 },
 "nbformat": 4,
 "nbformat_minor": 5
}

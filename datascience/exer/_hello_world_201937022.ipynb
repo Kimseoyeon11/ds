{
 "cells": [
  {
   "cell_type": "code",
   "execution_count": 6,
   "id": "ba638ebc-e5a4-407e-a8cd-a14b45912de1",
   "metadata": {},
   "outputs": [
    {
     "name": "stdout",
     "output_type": "stream",
     "text": [
      "Hello World\n",
      "100\n",
      "3.14\n",
      "My name is Seo Yeon and I'm so hungry.\n"
     ]
    }
   ],
   "source": [
    "print(\"Hello World\")\n",
    "print(100)\n",
    "pi=3.14\n",
    "print(pi)\n",
    "\n",
    "introduce=\"My name is\"\n",
    "name=\" Seo Yeon \"\n",
    "print(introduce + name+ \"and I'm so hungry.\")"
   ]
  },
  {
   "cell_type": "code",
   "execution_count": 11,
   "id": "c9dc28d3-b659-4369-8c37-2f3aa676d061",
   "metadata": {},
   "outputs": [
    {
     "name": "stdout",
     "output_type": "stream",
     "text": [
      "a\n"
     ]
    }
   ],
   "source": [
    "print(\"a\")"
   ]
  },
  {
   "cell_type": "code",
   "execution_count": 2,
   "id": "f0419bd6-f17b-4859-a7e6-e31b6c562178",
   "metadata": {},
   "outputs": [],
   "source": [
    "user_name = \"SEO YEON\"\n",
    "user_id = 201937022\n",
    "user_email = 'luxete@naver.com'\n",
    "is_student = True\n",
    "my_eyes = -3.25\n",
    "my_tall = 165"
   ]
  },
  {
   "cell_type": "code",
   "execution_count": 19,
   "id": "4fa2c074-0318-46c8-8349-2e87d17bd13d",
   "metadata": {},
   "outputs": [
    {
     "name": "stdout",
     "output_type": "stream",
     "text": [
      "x = 1\n",
      "Address of x: 140706172512048\n",
      "x= 2\n",
      "Address of x: 140706172512080\n"
     ]
    }
   ],
   "source": [
    "x = 1\n",
    "print('x =',x)\n",
    "print(\"Address of x:\",id(x))\n",
    "\n",
    "x=2\n",
    "print('x=',x)\n",
    "print(\"Address of x:\",id(x))"
   ]
  },
  {
   "cell_type": "code",
   "execution_count": 20,
   "id": "ddac1f58-eeae-441d-be80-2caa312cd5b3",
   "metadata": {},
   "outputs": [],
   "source": [
    "bed = 1\n",
    "broken_glasses = -2\n",
    "sofa = 1"
   ]
  },
  {
   "cell_type": "code",
   "execution_count": 5,
   "id": "130c2ecd-c473-4165-982b-23a5291726d4",
   "metadata": {},
   "outputs": [],
   "source": [
    "pi = 3.14\n",
    "kospi_index = 3125.76\n",
    "krw_usd_exchange = 1176.83\n",
    "\n",
    "#본인이 알고 있는 세개의 실수를 변수로 표현하시오\n",
    "#(위의 예시와 중복X)\n",
    "\n",
    "krw_jpy_exchange= 1081.50\n",
    "kosdaq_index = 1046.12\n",
    "btt_krw = 4.38 #비트토렌트\n"
   ]
  },
  {
   "cell_type": "code",
   "execution_count": 39,
   "id": "0ec25b56-f4cb-4a1f-aeea-808a119d05fc",
   "metadata": {},
   "outputs": [
    {
     "name": "stdout",
     "output_type": "stream",
     "text": [
      " Best is best  Starcraft  sonny \n",
      " strawberry  americano  itzy \n"
     ]
    }
   ],
   "source": [
    "favorite_motte = \" Best is best \"\n",
    "favorite_game = \" Starcraft \"\n",
    "favorite_athelete = \" sonny \"\n",
    "\n",
    "favorites = favorite_motte + favorite_game + favorite_athelete\n",
    "print(favorites)\n",
    "\n",
    "#본인이 좋아하는 것들을 문자열의 변수로 정의하시오 \n",
    "\n",
    "favorite_fruit = \" strawberry \"\n",
    "favorite_coffee = \" americano \"\n",
    "favorite_idol = \" itzy \"\n",
    "\n",
    "favorites2= favorite_fruit + favorite_coffee + favorite_idol\n",
    "print(favorites2)\n"
   ]
  }
 ],
 "metadata": {
  "kernelspec": {
   "display_name": "Python 3",
   "language": "python",
   "name": "python3"
  },
  "language_info": {
   "codemirror_mode": {
    "name": "ipython",
    "version": 3
   },
   "file_extension": ".py",
   "mimetype": "text/x-python",
   "name": "python",
   "nbconvert_exporter": "python",
   "pygments_lexer": "ipython3",
   "version": "3.8.8"
  }
 },
 "nbformat": 4,
 "nbformat_minor": 5
}
